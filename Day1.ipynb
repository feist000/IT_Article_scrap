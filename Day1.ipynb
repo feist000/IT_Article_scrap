{
  "nbformat": 4,
  "nbformat_minor": 0,
  "metadata": {
    "colab": {
      "name": "Day1 .ipynb",
      "provenance": [],
      "collapsed_sections": [],
      "toc_visible": true,
      "authorship_tag": "ABX9TyNJJD/2BLpEL/mYn8+wdM31",
      "include_colab_link": true
    },
    "kernelspec": {
      "name": "python3",
      "display_name": "Python 3"
    }
  },
  "cells": [
    {
      "cell_type": "markdown",
      "metadata": {
        "id": "view-in-github",
        "colab_type": "text"
      },
      "source": [
        "<a href=\"https://colab.research.google.com/github/feist000/IT_Article_scrap/blob/master/Day1.ipynb\" target=\"_parent\"><img src=\"https://colab.research.google.com/assets/colab-badge.svg\" alt=\"Open In Colab\"/></a>"
      ]
    },
    {
      "cell_type": "markdown",
      "metadata": {
        "id": "JQxEhkPe_3AX",
        "colab_type": "text"
      },
      "source": [
        "## 100일 프로젝트 : IT 뉴스 기사 한 줄 요약 \n",
        "\n",
        "\n",
        "\n",
        "> 1. 매일 IT 뉴스 기사 1개 선택 후 한 줄 요약 \n",
        "2. 카카오 프로젝트 100 인증 \n",
        "3. 일주일에 한 번씩 요약한 기사 중 1개를 골라 웹 크롤링 실습\n",
        "\n",
        "\n",
        "[카카오 프로젝트 100] https://project100.kakao.com/project/5164/introduce "
      ]
    },
    {
      "cell_type": "markdown",
      "metadata": {
        "id": "9JQ7uAa-CCQq",
        "colab_type": "text"
      },
      "source": [
        "9/7 (월)\n",
        "\n",
        "* url\n",
        "\n",
        "  > https://www.dailysecu.com/news/articleView.html?idxno=113080&page=2&total=90367\n",
        "\n",
        "\n",
        "\n",
        "\n",
        "* 요약\n",
        "> 보다 효율적인 정책 의사결정 및 문제 해결을 위해 고안 된 '공공 빅데이터 표준분석모델 정립사업'이 9월 초부터 실시될 예정이다. 이는 공공부문 빅데이터 분석 우수 사례 중 중요 5대 과제를 선정해 활용 데이터, 절차, 기법 등을 표준화 하여 정립한 참조모델을 만들고자 함이다.\n",
        "\n",
        "\n"
      ]
    }
  ]
}