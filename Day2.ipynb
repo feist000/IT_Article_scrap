{
  "nbformat": 4,
  "nbformat_minor": 0,
  "metadata": {
    "colab": {
      "name": "Day2 .ipynb",
      "provenance": [],
      "collapsed_sections": [],
      "toc_visible": true,
      "authorship_tag": "ABX9TyPNSgcsTaj2TQK4NKVUq2kl",
      "include_colab_link": true
    },
    "kernelspec": {
      "name": "python3",
      "display_name": "Python 3"
    }
  },
  "cells": [
    {
      "cell_type": "markdown",
      "metadata": {
        "id": "view-in-github",
        "colab_type": "text"
      },
      "source": [
        "<a href=\"https://colab.research.google.com/github/feist000/IT_Article_scrap/blob/master/Day2.ipynb\" target=\"_parent\"><img src=\"https://colab.research.google.com/assets/colab-badge.svg\" alt=\"Open In Colab\"/></a>"
      ]
    },
    {
      "cell_type": "markdown",
      "metadata": {
        "id": "JQxEhkPe_3AX",
        "colab_type": "text"
      },
      "source": [
        "## 100일 프로젝트 : IT 뉴스 기사 한 줄 요약 \n",
        "\n",
        "\n",
        "\n",
        "> 1. 매일 IT 뉴스 기사 1개 선택 후 한 줄 요약 \n",
        "2. 카카오 프로젝트 100 인증 \n",
        "3. 일주일에 한 번씩 요약한 기사 중 1개를 골라 웹 크롤링 실습\n",
        "\n",
        "\n",
        "[카카오 프로젝트 100] https://project100.kakao.com/project/5164/introduce "
      ]
    },
    {
      "cell_type": "markdown",
      "metadata": {
        "id": "9JQ7uAa-CCQq",
        "colab_type": "text"
      },
      "source": [
        "9/8 (화)\n",
        "\n",
        "* url\n",
        "\n",
        "  > https://m.boannews.com/html/detail.html?idx=90790\n",
        "\n",
        "\n",
        "\n",
        "\n",
        "* 요약\n",
        "> 디지털 전환 흐름과 클라우드 서비스의 상생으로 높은 비용, 보안 위협의 위험요소에도 불구하고 국내 외 많은 기업들이 멀티 클라우드 환경 활용에 총력을 기울이고 있다. 앞으로 보다 효율적인 클라우드 사용을 위해 MSP(클라우드 서비스 관리자) 산업군이 더욱 성장할 것으로 예상된다. \n",
        "\n"
      ]
    }
  ]
}