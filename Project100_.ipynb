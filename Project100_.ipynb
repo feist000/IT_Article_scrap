{
  "nbformat": 4,
  "nbformat_minor": 0,
  "metadata": {
    "colab": {
      "name": "Project100 .ipynb",
      "provenance": [],
      "collapsed_sections": [],
      "toc_visible": true,
      "authorship_tag": "ABX9TyMtznlvHufOVpGNwYg+FRoY",
      "include_colab_link": true
    },
    "kernelspec": {
      "name": "python3",
      "display_name": "Python 3"
    }
  },
  "cells": [
    {
      "cell_type": "markdown",
      "metadata": {
        "id": "view-in-github",
        "colab_type": "text"
      },
      "source": [
        "<a href=\"https://colab.research.google.com/github/feist000/IT_Article_scrap/blob/master/Project100_.ipynb\" target=\"_parent\"><img src=\"https://colab.research.google.com/assets/colab-badge.svg\" alt=\"Open In Colab\"/></a>"
      ]
    },
    {
      "cell_type": "markdown",
      "metadata": {
        "id": "JQxEhkPe_3AX"
      },
      "source": [
        "\n",
        "\n",
        "---\n",
        "\n",
        "\n",
        "# 100일 프로젝트 : IT 뉴스 기사 한 줄 요약 \n",
        "\n",
        "\n",
        "\n",
        "> 1. 매일 IT 뉴스 기사 1개 선택 후 한 줄 요약 \n",
        "2. 카카오 프로젝트 100 인증 \n",
        "3. 일주일에 한 번씩 요약한 기사 중 1개를 골라 웹 크롤링 실습\n",
        "\n",
        "\n",
        "[카카오 프로젝트 100] https://project100.kakao.com/project/5164/introduce \n",
        "\n",
        "\n",
        "\n",
        "\n",
        "---\n",
        "\n"
      ]
    },
    {
      "cell_type": "markdown",
      "metadata": {
        "id": "_tE8oCN6YvSR"
      },
      "source": [
        "+w## Day1\n",
        "\n",
        "9/7 (월) \n",
        "* url\n",
        "\n",
        "  > https://www.dailysecu.com/news/articleView.html?idxno=113080&page=2&total=90367\n",
        "\n",
        "\n",
        "\n",
        "\n",
        "* 요약\n",
        "> 1. 효율적인 정책 의사결정 및 문제 해결을 위해 '공공 빅데이터 표준분석모델 정립사업' 실시 예정. \n",
        " 2. 먼저 공공부문 빅데이터 분석 우수사례 중 중요 5대 과제를 선정. \n",
        " 3. 이를 토대로 활용 데이터, 절차, 기법 등을 표준화 하여 정립 된 참조모델 생성.\n",
        "\n",
        "\n",
        "\n",
        "\n",
        "\n"
      ]
    },
    {
      "cell_type": "markdown",
      "metadata": {
        "id": "9JQ7uAa-CCQq"
      },
      "source": [
        "## Day 2\n",
        "\n",
        "9/8 (화)\n",
        "\n",
        "* url\n",
        "\n",
        "  > https://m.boannews.com/html/detail.html?idx=90790\n",
        "\n",
        "\n",
        "\n",
        "\n",
        "* 요약\n",
        "> 1. 코로나 19로 인한 디지털 전환 흐름과 클라우드 서비스의 수요 증가.\n",
        " 2. 높은 비용, 보안 위협의 위험요소에도 불구하고 국내 외 많은 기업들이 멀티 클라우드 환경 활용에 주목. \n",
        " 3. 보다 효율적인 클라우드 사용을 위해 MSP(클라우드 서비스 관리자) 산업군이 더욱 성장할 것으로 예상. \n",
        "\n"
      ]
    },
    {
      "cell_type": "markdown",
      "metadata": {
        "id": "wzgw3cHx1L7D"
      },
      "source": [
        "## Day 3\n",
        "9/9 (수)\n",
        "\n",
        "* url\n",
        "\n",
        "  > https://www.dailysecu.com/news/articleView.html?idxno=113333&page=2&total=90367\n",
        "\n",
        "\n",
        "\n",
        "\n",
        "* 요약\n",
        "> 1. 한국 금융보안원에서 개발한 '비식별처리 프레임워크'가 국제표준기준으로 채택됨.\n",
        " 2. 비식별 처리란, 개인정보와 같은 중요 정보의 보안을 위해 정보의 일부 혹은 전체를 삭제, 변형함으로서 특정 개인 식별을 불가하게 만드는 조치.\n"
      ]
    },
    {
      "cell_type": "markdown",
      "metadata": {
        "id": "kG1kN3QYZAa2"
      },
      "source": [
        "## Day 4\n",
        "9/10 (목)\n",
        "\n",
        "* url\n",
        "\n",
        "  > http://www.inews24.com/view/1298133\n",
        "\n",
        "\n",
        "\n",
        "\n",
        "* 요약\n",
        "> 1. '설명을 요구할 권리' : 이용자가 알고리즘이 내리는 의사결정에 관한 설명을 요구할 수 있는  권리\n",
        " 2. 알고리즘이 내리는 자동화된 의사결정 기반에는 인간 개입에 따른 오류, 편향성, 검열 가능성 등이 내포되어 있음.\n",
        " 3. AI의 비중립성을 주장하며 알고리즘 코드를 공개해야 한다는 쪽과 모든 알고리즘을 검열받을 수는 없다는 쪽의 대립 ↑"
      ]
    },
    {
      "cell_type": "markdown",
      "metadata": {
        "id": "sF_6MmcRV-ah"
      },
      "source": [
        "## Day 5\n",
        "9/11 (금)\n",
        "\n",
        "* url\n",
        "\n",
        "  > https://www.dailysecu.com/news/articleView.html?idxno=113511\n",
        "\n",
        "\n",
        "\n",
        "\n",
        "* 요약\n",
        "> 1. 공인인증서 폐지로 새로운 보안인증 수단이 필요한 지금, 생물학적 서명으로만 사용가능한 인간 유전체 기반 ID 시스템이 개발됨\n",
        " 2. 유전자 정보 DB를 구축, 식별인자 분석 및 암호화 기술을 이용해 기존 공인인증서 방식의 개선안을 지향하고자 함\n",
        " 3. 펫카드 내 IC칩 메모리를 활용해 반려동물의 건강,신상정보 시스템 구축 가능성有"
      ]
    },
    {
      "cell_type": "markdown",
      "metadata": {
        "id": "cYbz4wbnjYdx"
      },
      "source": [
        "## Day 6\n",
        "9/12 (토)\n",
        "\n",
        "* url\n",
        "\n",
        "  > https://www.dailysecu.com/news/articleView.html?idxno=113448\n",
        "\n",
        "\n",
        "\n",
        "\n",
        "* 요약\n",
        "> 1. 코로나 대응 위한 스마트 감염관리 시스템 출시\n",
        " 2. 기업 및 의료기관의 출입통제 업무, 의심환자 접촉 정보파악, 위치파악 등에 특화.\n",
        " 3. 키오스크, 모바일앱, QR코드를 이용한 관리로 단순업무 ↓ 의료진 업무 효율 ↑"
      ]
    },
    {
      "cell_type": "markdown",
      "metadata": {
        "id": "1hYbqrSQTRPP"
      },
      "source": [
        "## Day 7\n",
        "9/13 (일)\n",
        "\n",
        "* url\n",
        "\n",
        "  > https://www.dailysecu.com/news/articleView.html?idxno=112755\n",
        "\n",
        "\n",
        "\n",
        "\n",
        "* 요약\n",
        "> 1. 구글 프로젝트 팀이 잠재적 악용 가능한 웹서버 소프트웨어 관련 3가지 결함을 해결한 2.4.46버전 출시.\n",
        " 2. 기존 시스템은 임의 코드 실행, 서버충돌을 통한 DoS 조건 유발 가능성 有\n",
        " 3. 앞으로도 아파치 웹 서버의 주기적인 취약점 연구와 개선 방안 관리가 필요할 것으로 예상."
      ]
    },
    {
      "cell_type": "markdown",
      "metadata": {
        "id": "3JylOfVw1-Q3"
      },
      "source": [
        "## Day 8\n",
        "9/14 (월)\n",
        "\n",
        "* url\n",
        "\n",
        "  > http://www.inews24.com/view/1299081\n",
        "\n",
        "\n",
        "\n",
        "\n",
        "* 요약\n",
        "> 1. 오라클(Oracle) 기업의 '틱톡' 인수 예정\n",
        " 2. 트럼프 대통령의 미국 내 틱톡, 위챗 철수 명령 후, 유력 인수 후보였던 MS를 제치고 오라클이 채택됨\n",
        " 3. 오라클 창업자인 래리 엘리슨 오라클이 트럼프 행정부와 우호적인 점이 큰 역할을 한 것으로 예상. 추후 틱톡과 오라클이 어떤 시너지를 낼 지에 대해 관심 ↑"
      ]
    },
    {
      "cell_type": "markdown",
      "metadata": {
        "id": "3ATRLnOS3Wri"
      },
      "source": [
        "## Day 9\n",
        "9/15 (화)\n",
        "\n",
        "* url\n",
        "\n",
        "  > https://www.boannews.com/media/view.asp?idx=91172&page=1&kind=3\n",
        "\n",
        "\n",
        "\n",
        "\n",
        "* 요약\n",
        "> 1. SK텔레콤, T맵 대중교통 앱을 통한 지하철 칸 별 혼잡도 예측 정보 국내 최초 제공\n",
        " 2. 4가지 색상을 통한 혼잡도 확인 기능, 같은 혼잡도 단계일 경우 여유 있는 칸을 추천해주는 기능 탑재\n",
        " 3. 코로나 시대에 예측 분석을 이용해 감염확산을 막을 수 있는 좋은 방안으로 향후 더욱 발전할 것이라 예상"
      ]
    },
    {
      "cell_type": "markdown",
      "metadata": {
        "id": "NILvbY03XIiT"
      },
      "source": [
        "## Day 10\n",
        "9/16 (수)\n",
        "\n",
        "* url\n",
        "\n",
        "  > https://www.boannews.com/media/view.asp?idx=91225\n",
        "\n",
        "\n",
        "\n",
        "\n",
        "* 요약\n",
        "> 1. 유럽연합의 코로나 추적 효율을 위한 국경 초월 게이트웨이 개발 추진\n",
        " 2. 어플 하나로 유럽 연합국가 어디든 코로나 추적 현황 및 정보를 얻을 수 있음\n",
        " 3. 현재 6개 국가가 참여중이며, 시험기간은 10월까지."
      ]
    },
    {
      "cell_type": "markdown",
      "metadata": {
        "id": "dvZ_zR5gjXWW"
      },
      "source": [
        "## Day 11\n",
        "9/17 (목)\n",
        "\n",
        "* url\n",
        "\n",
        "  > https://www.boannews.com/media/view.asp?idx=91109\n",
        "\n",
        "\n",
        "\n",
        "\n",
        "* 요약\n",
        "> 1. 네이버 고객센터를 사칭해 패스워드를 탈취하려는 피싱 공격 발견\n",
        " 2. MS에서 고소당한 '탈륨'해킹 조직이 연계도니 것으로 추정\n",
        " 3. '새로운 기기 로그인 알림 기능'이 해제되었다는 이메일 공지를 사칭해 비밀번호를 다시 입력하게 만드는 방식을 사용 중이니 각별한 주의 필요."
      ]
    },
    {
      "cell_type": "markdown",
      "metadata": {
        "id": "fORos_hS7Uch"
      },
      "source": [
        "## Day 12\n",
        "9/18 (금)\n",
        "\n",
        "* url\n",
        "\n",
        "  > http://www.inews24.com/view/1299781\n",
        "\n",
        "\n",
        "\n",
        "* 요약\n",
        "> 1. 카카오의 업무용 메신저 플랫폼 '카카오워크'츨시\n",
        " 2. 장점 : 카카오톡 UI와 유사해서 카톡유저라면 쉽게 사용 가능.업무용 회의 시 유용한 추가 기능들의 탑재.\n",
        " 3. 온라인 커뮤니티에서의 반응이 '업무 관련 지나친 통제, 감시 예상' 혹은 '편리하고 새로운 업무 메신저 플랫폼의 등장'으로 갈리고 있으니 중간 밸런스를 잡는 것이 향후 쟁점으로 예상."
      ]
    },
    {
      "cell_type": "markdown",
      "metadata": {
        "id": "FQoO8Ky0FYDY"
      },
      "source": [
        "## Day 13\n",
        "9/19 (토)\n",
        "\n",
        "* url\n",
        "\n",
        "  > http://www.inews24.com/view/1300635\n",
        "\n",
        "\n",
        "* 요약\n",
        "> 1. 해커들이 랜섬웨어 공격으로 확보한 데이터를 이용해 압박수위를 높이고 있음\n",
        " 2. 기존 수법은 데이터를 암호화 한 후, 이를 복호화 해주는 조건으로 비용을 청구하는 방식\n",
        " 3. 해킹한 데이터를 다크웹에 공개하겠다는 식으로 수법이 변형되어 더 큰 공격 주도권을 갖게 될 것으로 예상. 주요 기관들의 백업 시스템 개선이 필요."
      ]
    },
    {
      "cell_type": "markdown",
      "metadata": {
        "id": "rJhl34ttfDVg"
      },
      "source": [
        "## Day 14\n",
        "9/20 (일)\n",
        "\n",
        "* url\n",
        "\n",
        "  > https://www.dailysecu.com/news/articleView.html?idxno=113825&page=2&total=90515\n",
        "\n",
        "\n",
        "* 요약\n",
        "> 1. MS SQL 서버를 공격한 시스템 해킹 및 가상화폐 채굴 악성코드'MrbMiner' 발견\n",
        " 2. 해킹 방법 : SQL 서버의 취약점인 비밀번호를 이용한 침입, MSSQL 서버공격을 위한 봇넷 이용, C#을 이용한 트로이목마 실행\n",
        " 3. MSSQL 서버 속 Default/@fg125kjnjn987 계정 유무 체크로 공격 캠페인을 식별 가능하여 확인 권고"
      ]
    },
    {
      "cell_type": "markdown",
      "metadata": {
        "id": "MSwX432kOu5Z"
      },
      "source": [
        "## Day 15\n",
        "9/21 (월)\n",
        "\n",
        "* url\n",
        "\n",
        "  > https://www.dailysecu.com/news/articleView.html?idxno=113824&page=3&total=90535\n",
        "\n",
        "\n",
        "* 요약\n",
        "> 1.  스마트폰을 이용한 ‘위조지폐 감정시스템’의 확대 시행\n",
        " 2. 데이터 마이닝 기법을 이용하여 기존 시스템보다 정교하게 위안화, 달러화까지 원격 감정 가능\n",
        " 3. 9/18부터 시행될 예정이며, 추후 신분증 위변조 감정시스템까지 추가 적용될 것으로 예상"
      ]
    },
    {
      "cell_type": "markdown",
      "metadata": {
        "id": "nd7p3N2PO8cj"
      },
      "source": [
        "## Day 16\n",
        "9/22 (화)\n",
        "\n",
        "* url\n",
        "\n",
        "  > https://n.news.naver.com/article/123/0002227508\n",
        "\n",
        "\n",
        "* 요약\n",
        "> 코로나로 인해 많은 산업이 하향되었으나, 게임산업만큼은 언택트 시대에 맞춰 사용량 대폭 증가."
      ]
    },
    {
      "cell_type": "markdown",
      "metadata": {
        "id": "YYb4FqgyK_sF"
      },
      "source": [
        "## Day 17\n",
        "9/23 (수)\n",
        "\n",
        "* url\n",
        "\n",
        "  > https://www.boannews.com/media/view.asp?idx=91282\n",
        "\n",
        "\n",
        "* 요약\n",
        "> 1.  랜섬웨어를 이용한 독일 병원 시스템 해킹으로 시스템이 마비되어 긴급 환자 이송 중 사망. \n",
        " 2. 현재 범인을 추적 중이며, 병원 측에도 책임이 있는 지에 대한 궁금증 有"
      ]
    },
    {
      "cell_type": "markdown",
      "metadata": {
        "id": "TziAw2BaWK4D"
      },
      "source": [
        "## Day 18\n",
        "9/24 (목)\n",
        "\n",
        "* url\n",
        "\n",
        "  > https://www.boannews.com/media/view.asp?idx=91376\n",
        "\n",
        "\n",
        "* 요약\n",
        "> 1.  구글 클라우드 버킷6%에서 설정 오류 발견\n",
        " 2. 단 2시간 30분 만에 2천 개의 버킷 써치 가능. 이는 곧 해커들 역시 손쉽게 구글 클라우드 도메인을 침입할 수 있음을 의미. 향후 클라우드 설정 강화가 필요함."
      ]
    },
    {
      "cell_type": "markdown",
      "metadata": {
        "id": "MEDXemHU_xQv"
      },
      "source": [
        "## Day 19\n",
        "9/25 (금)\n",
        "\n",
        "* url\n",
        "\n",
        "  > https://www.dailysecu.com/news/articleView.html?idxno=114049\n",
        "\n",
        "\n",
        "* 요약\n",
        "> 1. MS사가 보안 문제로 지난 주 추가했던 윈도디펜더의 파일 다운로드 기능을 삭제\n",
        "\n",
        "2. 파일 다운로드 시 MS사용자는 MS 안티멀웨어 서비스 명령 유틸리티를 사용할 수 있음\n",
        "\n",
        "3. 해당 유틸리티로 멀웨어의 상당 부분을 탐지할 수 있으나, 공격자가 우회용 탐지 프로그램을 쓸 경우를 고려해 삭제한 것으로 추측"
      ]
    },
    {
      "cell_type": "markdown",
      "metadata": {
        "id": "HNc_S5p7_3_l"
      },
      "source": [
        "## Day 20\n",
        "9/26 (토)\n",
        "\n",
        "* url\n",
        "\n",
        "  > https://www.boannews.com/media/view.asp?idx=91421\n",
        "\n",
        "\n",
        "* 요약\n",
        "> 1.  '구 소련국가는 공격하지 않는다.'는 불문율을 깬 러시아 공격형 해커 단체 등장\n",
        " 2. 주로 다양한 변형도구로 사이버 공격을 시도하는데 타이니포시, 타이니노드 등이 눈에 띄는 프로그램\n",
        "  3. 기존 러시아 해커들에게서 볼 수 없던 경우라 향후 러시아 사이버 세계의 사정이 재미있어질 것으로 예상됨"
      ]
    },
    {
      "cell_type": "markdown",
      "metadata": {
        "id": "iw5F6cZ2_7sC"
      },
      "source": [
        "## Day 21\n",
        "9/27 (일)\n",
        "\n",
        "* url\n",
        "\n",
        "  > https://www.boannews.com/media/view.asp?idx=91451\n",
        "\n",
        "\n",
        "* 요약\n",
        "> 1. 인스타그램 속 이미지 다운로드를 통한 해킹 가능성 제기\n",
        " 2. 이미지 실행만으로 익스플로잇 가능. 이후 해커는 사용자의 인스타그램을 마음대로 사용가능.\n",
        "  3. 기존 인스타그램 사용자가 인스타그램의 권한을 적게 설정해둘 경우 피해가 적지만, 그렇다면 인스타그램 자체의 기능을 잃는다는 점에서 SNS에 얼마만큼의 권한을 줘야하는지에 대한 질문을 던질 수 있음. \n"
      ]
    },
    {
      "cell_type": "markdown",
      "metadata": {
        "id": "Ro7ybaKvHRt8"
      },
      "source": [
        "## Day 22\n",
        "9/28 (월)\n",
        "\n",
        "* url\n",
        "\n",
        "  > https://www.dailysecu.com/news/articleView.html?idxno=114036&page=3&total=90609\n",
        "\n",
        "\n",
        "* 요약\n",
        "> 1. 브리드 사, 스마트 국방화를 위한 오픈 DBMS 공급 및 클라우드 전환 정책 지원 발탁\n",
        " 2. 큐브리드 사는 국방부 뿐 아니라 해군본부 등 국방 산하 기관에서 다수의 프로젝트를 수행한 이력 有\n",
        "  3. 향후 클라우드와 같은 국방부 시스템의 새로운 변화를 통한 스마트 국방 실현에 대한 기대 상승\n"
      ]
    },
    {
      "cell_type": "markdown",
      "metadata": {
        "id": "IPqWP6T5QAC_"
      },
      "source": [
        "## Day 23\n",
        "9/29 (화)\n",
        "\n",
        "* url\n",
        "\n",
        "  > http://m.inews24.com/v/1303407#_DYAD\n",
        "\n",
        "\n",
        "* 요약\n",
        "> 1. 펌웨어를 이용해 스마트 IoT 커피머신을 해킹, 자유롭게 조종할 수 있을 위험 有\n",
        " 2. 펌웨어는 기계의 전반을 조종하는 프로세서 기반 프로그램인데, 최근 커피머신들은 무선방식(OAT) 방식을 사용하고 있어 어플로도 조종이 가능함. 하지만 대부분 보안기능 無\n",
        "  3. 이 점을 이용해 공격자가 펌웨어를 조종하고자 할 시 막을 방법이 없어 추후 보안 가능 기능 탑재 必"
      ]
    },
    {
      "cell_type": "markdown",
      "metadata": {
        "id": "pJh39Udd27NB"
      },
      "source": [
        "## Day 24\n",
        "9/30 (수)\n",
        "\n",
        "* url\n",
        "\n",
        "  > https://www.etnews.com/20200929000010?SNS=00002\n",
        "\n",
        "\n",
        "* 요약\n",
        "> 1. NBP(네이버 비즈니스 플랫폼)가 중국 3대 게임사 중 하나인 창유닷컴코리아에 네이버클라우드플랫폼을 제공.\n",
        " 2. 국내 기업 클라우드의 해외 진출 가능성 有"
      ]
    },
    {
      "cell_type": "markdown",
      "metadata": {
        "id": "yEIsve6r7xCp"
      },
      "source": [
        "## Day 25\n",
        "10/1 (목)\n",
        "\n",
        "* url\n",
        "\n",
        "  > https://www.boannews.com/media/view.asp?idx=91491\n",
        "\n",
        "* 요약\n",
        "> 1. 윈도XP, 윈도 서버 2003 소스코드 파일 유출\n",
        " 2. 기존에 만료된 소스코드지만, 아직까지도 사용 중인 대수가 여전히 많아 문제 vs 이미 윈도 10 소스코드도 유출된 상황이라 그리 심각하진 않음\n"
      ]
    },
    {
      "cell_type": "markdown",
      "metadata": {
        "id": "7YiGCgWKv8qB"
      },
      "source": [
        "## Day 28\n",
        "10/4 (일)\n",
        "\n",
        "* url\n",
        "\n",
        "  > https://www.boannews.com/media/view.asp?idx=91560\n",
        "\n",
        "\n",
        "\n",
        "* [기사 요약]\n",
        "\n",
        "1. 허위 정보, 가짜 뉴스 퍼트리기의 주 원인 : 자연어 처리 및 생성 알고리즘의 발전으로 만들어진 인공지능(AI)\n",
        "대표적인 경우로, 지난 5월 등장한 오픈베타 시스템 GPT-3(by OPENAI)가 있음.\n",
        "2. GPT-3는 수천억개의 매개변수를 이용해 인간처럼 제한없는 텍스트 창작에 능하며, 이를 이용해 허위정보를 확산시키는 데 일조함. 이 시스템을 NLG(Natural Language Generation)이라고 함.\n",
        "3. 텍스트 허위정보 확산에 더불어 딥페이크를 이용한 허위정보 확산도 문제.\n",
        "\n",
        "\n",
        "* [본인 의견]\n",
        "\n",
        "\n",
        "> 의문 ) 과연 허위 정보, 가짜뉴스는 정복될 수 있는가?\n",
        "\n",
        " 1. 인간의 기본 속성에는 진실 여부와 관계없이 자신이 믿고 싶은 걸 믿고자 하는 경향이 강함.\n",
        " 2. 정치, 사회, 경제, 심지어 과학까지 개인이 원하는 프레임에 맞춰 믿고자 하는 점이 현대의 극단주의자, 만물의심주의를 낳는 요인.\n",
        "인공지능의 발전과 더불어 인공지능을 이용한 악용사례를 막고자 하는 힘도 커지고 있는 건 사실.\n",
        " 3. 그러나, 정말로 중요한 건 믿고자 하는 것만 믿으려고 하는 태도를 바꿔 사실을 판단하고 직시하는 능력을 기르는 힘."
      ]
    },
    {
      "cell_type": "markdown",
      "metadata": {
        "id": "huawb52DJkAC"
      },
      "source": [
        "## Day 29\n",
        "10/5 (월)\n",
        "\n",
        "* url\n",
        "\n",
        "  > https://m.boannews.com/html/detail.html?idx=91565\n",
        "\n",
        "* 요약\n",
        "> 1. 2018년 이후 주춤하던 홈페이지 변조 해킹 건수가 다시 증가하고 있음.\n",
        " 2. KISA(한국인터넷진흥원)은 모니터링 횟수를 2배로 늘리는 등 탐지 강화에 힘 쏟고 있으나 추가적인 지원이 필요할 것으로 예상.\n"
      ]
    },
    {
      "cell_type": "markdown",
      "metadata": {
        "id": "CatBpfM-Tg_Y"
      },
      "source": [
        "## Day 30\n",
        "10/6 (화)\n",
        "\n",
        "* url\n",
        "\n",
        "  > http://m.boannews.com/html/detail.html?idx=91577\n",
        "\n",
        "\n",
        "* 요약\n",
        "> 1. 구글, 파트너사 제작 안드로이드 장비가 가진 취약점까지 구글 자사에서 관리하겠다 선언 (=APVI)\n",
        " 2. 안드로이드 자체의 문제는 구글이 발견하고 고칠 수 있으나, 써드 파티 업체의 취약점은 파악하기 어려웠던 것을 고려한 듯\n",
        "  3. 이미 공개된 써드파티 취약점 공개명단에는 미디어텍, 화웨이를 포함한 총 8곳 有"
      ]
    },
    {
      "cell_type": "markdown",
      "metadata": {
        "id": "r6257rVZeRLZ"
      },
      "source": [
        "## Day 31\n",
        "10/7 (수)\n",
        "\n",
        "* url\n",
        "\n",
        "  > https://www.dailysecu.com/news/articleView.html?idxno=114151&page=5&total=90336\n",
        "\n",
        "\n",
        "* 요약\n",
        "> 1. 국내 자율주행 로봇을 아용한 음식배달서비스가 활성화 될 예정\n",
        " 2. 음성안내 서비스 및 시각장애인을 위한 보행경로 안내 서비스도 탑재\n",
        " 3. 다수의 기업들(우아한형제들, 신세계엘엔비 등등)이 서비스 실용화를 위한 실증특례 허가를 요청했으며 심의위원회에서 현재 허가 완료 "
      ]
    },
    {
      "cell_type": "markdown",
      "metadata": {
        "id": "ALNcUTECel4A"
      },
      "source": [
        "## Day 32\n",
        "10/8 (목)\n",
        "\n",
        "* url\n",
        "\n",
        "  > https://www.dailysecu.com/news/articleView.html?idxno=114704\n",
        "\n",
        "\n",
        "* 요약\n",
        "> 1. TeanTNT 해킹그룹이 크립토마이닝 웜 악성코드를 이용해 추가적 해킹을 시도\n",
        " 2. 악성코드에 비밀번호 탈취 및 네트워크 스캔 기능을 추가해 다른 취약한 기기로 더욱 쉽게 확산되도록 한 것\n",
        " 3. 이 웜을 Black -T라고 명명함"
      ]
    },
    {
      "cell_type": "markdown",
      "metadata": {
        "id": "stcGspM5cP4Z"
      },
      "source": [
        "## Day 33\n",
        "10/9 (금)\n",
        "\n",
        "* url\n",
        "\n",
        "  > https://www.dailysecu.com/news/articleView.html?idxno=114776\n",
        "\n",
        "\n",
        "* 요약\n",
        "> 1. 정부기관 사이트 웹페이지에 최소한의 보안조치도 없음을 행안부에서 인정.\n",
        " 2. 보건복지부, 정부입법사이트 등 주요기밀이 매우 많은 사이트들이 취약 상위 리스트에 속해있어 추가적인 보안 기능 탑재가 필수적."
      ]
    },
    {
      "cell_type": "markdown",
      "metadata": {
        "id": "TnmcwpODvjFX"
      },
      "source": [
        "## Day 34\n",
        "10/10 (토)\n",
        "\n",
        "* url\n",
        "\n",
        "  > http://m.boannews.com/html/detail.html?idx=91568\n",
        "\n",
        "\n",
        "* 요약\n",
        "> 1. 코로나 백신의 임상실험을 비롯해 여러 가지 질병 연구의 뒷받침을 해주는 의료용 소프트웨어 제조사 eResearchTechnology가 랜섬웨어 공격을 받았다.\n",
        " 2. 해당 소프트웨어사의 제품을 사용하던 각종 코로나 연구기업들이 연구에 차질을 빚고 있어 큰 문제.\n",
        " 3. 최근 랜섬웨어로 인한 병원 해킹으로 사망자가 발생한 사건과 더불어 해킹이 코로나 관련 사망으로도 이어질 수 있다는 주장이 확실해짐."
      ]
    },
    {
      "cell_type": "markdown",
      "metadata": {
        "id": "jp1SA3kZwnb2"
      },
      "source": [
        "## Day 35\n",
        "10/11 (일)\n",
        "\n",
        "* url\n",
        "\n",
        "  > https://m.etnews.com/20201006000096\n",
        "\n",
        "\n",
        "* 요약\n",
        ">1. 데이터 3법 통과 후, 의료데이터 활용 기대감이 상승하고 있다.\n",
        " 2. 기존에는 환자의 현상태를 기반으로 진단했다면, 의료데이터 활용 이후로는 환자의 과거데이터 분석을 통해 전반적인 의료진단이 가능해진다.\n",
        " 3. 미국, 일본 등 주요국은 이미 디지털 헬스케어 시장에 적극적으로 뛰어들고 있으며 한국 역시 빠른 it 인프라로 우수한 의료 데이터 확보에 나설 것으로 예상된다."
      ]
    },
    {
      "cell_type": "markdown",
      "metadata": {
        "id": "4pZHqM_3uPrq"
      },
      "source": [
        "## Day 36\n",
        "10/12 (월)\n",
        "\n",
        "* url\n",
        "\n",
        "  > https://m.etnews.com/20201011000050\n",
        "\n",
        "\n",
        "* 요약\n",
        ">1. 네이버 클로바(네이버AI 사내기업)가 한국-일본 양쪽에서 AI실증 및 상용화를 본격 추진.\n",
        " 2. 아날로그식 운영이 주인 일본에서 최초로 AI를 이용한 응대 및 접수 시스템을 구축할 예정. \n",
        " 3. 클로바가 개발한 라인AI콜이 사용되며 전화 예약, 라인페이(금융), 온라인 금융신원확인 기능을 예상 중. 한국에서는 스마트조명 ‘클로바램프’ 출시 예정."
      ]
    },
    {
      "cell_type": "markdown",
      "metadata": {
        "id": "bOZn0hZEg1UQ"
      },
      "source": [
        "## Day 37\n",
        "10/12 (목)\n",
        "\n",
        "* url\n",
        "\n",
        "  > https://www.dailysecu.com/news/articleView.html?idxno=114548\n",
        "\n",
        "\n",
        "* 요약\n",
        ">1. 최근 국내외 금융사, 기업 등을 대상으로 DDOS공격 후 비트코인을 요구하는 사례 급증\n",
        " 2. 공격자로부터 협박 메일 및 공격을 받을 시, 한국인터넷진흥원에 즉시 신고하고 기관, 기업에서 제공하는 디도스 공격 방어 시스템 사용\n",
        " 3. 각 기관 기업에 강도 높은 보안 및 주의 필요"
      ]
    }
  ]
}