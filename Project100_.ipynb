{
  "nbformat": 4,
  "nbformat_minor": 0,
  "metadata": {
    "colab": {
      "name": "Project100 .ipynb",
      "provenance": [],
      "collapsed_sections": [],
      "toc_visible": true,
      "authorship_tag": "ABX9TyNX69fVKbJmL/H1MZufOUas",
      "include_colab_link": true
    },
    "kernelspec": {
      "name": "python3",
      "display_name": "Python 3"
    }
  },
  "cells": [
    {
      "cell_type": "markdown",
      "metadata": {
        "id": "view-in-github",
        "colab_type": "text"
      },
      "source": [
        "<a href=\"https://colab.research.google.com/github/feist000/IT_Article_scrap/blob/master/Project100_.ipynb\" target=\"_parent\"><img src=\"https://colab.research.google.com/assets/colab-badge.svg\" alt=\"Open In Colab\"/></a>"
      ]
    },
    {
      "cell_type": "markdown",
      "metadata": {
        "id": "JQxEhkPe_3AX",
        "colab_type": "text"
      },
      "source": [
        "\n",
        "\n",
        "---\n",
        "\n",
        "\n",
        "# 100일 프로젝트 : IT 뉴스 기사 한 줄 요약 \n",
        "\n",
        "\n",
        "\n",
        "> 1. 매일 IT 뉴스 기사 1개 선택 후 한 줄 요약 \n",
        "2. 카카오 프로젝트 100 인증 \n",
        "3. 일주일에 한 번씩 요약한 기사 중 1개를 골라 웹 크롤링 실습\n",
        "\n",
        "\n",
        "[카카오 프로젝트 100] https://project100.kakao.com/project/5164/introduce \n",
        "\n",
        "\n",
        "\n",
        "\n",
        "---\n",
        "\n"
      ]
    },
    {
      "cell_type": "markdown",
      "metadata": {
        "id": "_tE8oCN6YvSR",
        "colab_type": "text"
      },
      "source": [
        "## Day1\n",
        "\n",
        "9/7 (월) \n",
        "* url\n",
        "\n",
        "  > https://www.dailysecu.com/news/articleView.html?idxno=113080&page=2&total=90367\n",
        "\n",
        "\n",
        "\n",
        "\n",
        "* 요약\n",
        "> 1. 효율적인 정책 의사결정 및 문제 해결을 위해 '공공 빅데이터 표준분석모델 정립사업' 실시 예정. \n",
        " 2. 먼저 공공부문 빅데이터 분석 우수사례 중 중요 5대 과제를 선정. \n",
        " 3. 이를 토대로 활용 데이터, 절차, 기법 등을 표준화 하여 정립 된 참조모델 생성.\n",
        "\n",
        "\n",
        "\n",
        "\n",
        "\n"
      ]
    },
    {
      "cell_type": "markdown",
      "metadata": {
        "id": "9JQ7uAa-CCQq",
        "colab_type": "text"
      },
      "source": [
        "## Day 2\n",
        "\n",
        "9/8 (화)\n",
        "\n",
        "* url\n",
        "\n",
        "  > https://m.boannews.com/html/detail.html?idx=90790\n",
        "\n",
        "\n",
        "\n",
        "\n",
        "* 요약\n",
        "> 1. 코로나 19로 인한 디지털 전환 흐름과 클라우드 서비스의 수요 증가.\n",
        " 2. 높은 비용, 보안 위협의 위험요소에도 불구하고 국내 외 많은 기업들이 멀티 클라우드 환경 활용에 주목. \n",
        " 3. 보다 효율적인 클라우드 사용을 위해 MSP(클라우드 서비스 관리자) 산업군이 더욱 성장할 것으로 예상. \n",
        "\n"
      ]
    },
    {
      "cell_type": "markdown",
      "metadata": {
        "id": "wzgw3cHx1L7D",
        "colab_type": "text"
      },
      "source": [
        "## Day 3\n",
        "9/9 (수)\n",
        "\n",
        "* url\n",
        "\n",
        "  > https://www.dailysecu.com/news/articleView.html?idxno=113333&page=2&total=90367\n",
        "\n",
        "\n",
        "\n",
        "\n",
        "* 요약\n",
        "> 1. 한국 금융보안원에서 개발한 '비식별처리 프레임워크'가 국제표준기준으로 채택됨.\n",
        " 2. 비식별 처리란, 개인정보와 같은 중요 정보의 보안을 위해 정보의 일부 혹은 전체를 삭제, 변형함으로서 특정 개인 식별을 불가하게 만드는 조치.\n"
      ]
    },
    {
      "cell_type": "markdown",
      "metadata": {
        "id": "kG1kN3QYZAa2",
        "colab_type": "text"
      },
      "source": [
        "## Day 4\n",
        "9/10 (목)\n",
        "\n",
        "* url\n",
        "\n",
        "  > http://www.inews24.com/view/1298133\n",
        "\n",
        "\n",
        "\n",
        "\n",
        "* 요약\n",
        "> 1. '설명을 요구할 권리' : 이용자가 알고리즘이 내리는 의사결정에 관한 설명을 요구할 수 있는  권리\n",
        " 2. 알고리즘이 내리는 자동화된 의사결정 기반에는 인간 개입에 따른 오류, 편향성, 검열 가능성 등이 내포되어 있음.\n",
        " 3. AI의 비중립성을 주장하며 알고리즘 코드를 공개해야 한다는 쪽과 모든 알고리즘을 검열받을 수는 없다는 쪽의 대립 ↑"
      ]
    },
    {
      "cell_type": "markdown",
      "metadata": {
        "id": "sF_6MmcRV-ah",
        "colab_type": "text"
      },
      "source": [
        "## Day 5\n",
        "9/11 (금)\n",
        "\n",
        "* url\n",
        "\n",
        "  > https://www.dailysecu.com/news/articleView.html?idxno=113511\n",
        "\n",
        "\n",
        "\n",
        "\n",
        "* 요약\n",
        "> 1. 공인인증서 폐지로 새로운 보안인증 수단이 필요한 지금, 생물학적 서명으로만 사용가능한 인간 유전체 기반 ID 시스템이 개발됨\n",
        " 2. 유전자 정보 DB를 구축, 식별인자 분석 및 암호화 기술을 이용해 기존 공인인증서 방식의 개선안을 지향하고자 함\n",
        " 3. 펫카드 내 IC칩 메모리를 활용해 반려동물의 건강,신상정보 시스템 구축 가능성有"
      ]
    },
    {
      "cell_type": "markdown",
      "metadata": {
        "id": "cYbz4wbnjYdx",
        "colab_type": "text"
      },
      "source": [
        "## Day 6\n",
        "9/12 (토)\n",
        "\n",
        "* url\n",
        "\n",
        "  > https://www.dailysecu.com/news/articleView.html?idxno=113448\n",
        "\n",
        "\n",
        "\n",
        "\n",
        "* 요약\n",
        "> 1. 코로나 대응 위한 스마트 감염관리 시스템 출시\n",
        " 2. 기업 및 의료기관의 출입통제 업무, 의심환자 접촉 정보파악, 위치파악 등에 특화.\n",
        " 3. 키오스크, 모바일앱, QR코드를 이용한 관리로 단순업무 ↓ 의료진 업무 효율 ↑"
      ]
    },
    {
      "cell_type": "markdown",
      "metadata": {
        "id": "1hYbqrSQTRPP",
        "colab_type": "text"
      },
      "source": [
        "## Day 7\n",
        "9/13 (일)\n",
        "\n",
        "* url\n",
        "\n",
        "  > https://www.dailysecu.com/news/articleView.html?idxno=112755\n",
        "\n",
        "\n",
        "\n",
        "\n",
        "* 요약\n",
        "> 1. 구글 프로젝트 팀이 잠재적 악용 가능한 웹서버 소프트웨어 관련 3가지 결함을 해결한 2.4.46버전 출시.\n",
        " 2. 기존 시스템은 임의 코드 실행, 서버충돌을 통한 DoS 조건 유발 가능성 有\n",
        " 3. 앞으로도 아파치 웹 서버의 주기적인 취약점 연구와 개선 방안 관리가 필요할 것으로 예상."
      ]
    },
    {
      "cell_type": "markdown",
      "metadata": {
        "id": "3JylOfVw1-Q3",
        "colab_type": "text"
      },
      "source": [
        "## Day 8\n",
        "9/14 (월)\n",
        "\n",
        "* url\n",
        "\n",
        "  > http://www.inews24.com/view/1299081\n",
        "\n",
        "\n",
        "\n",
        "\n",
        "* 요약\n",
        "> 1. 오라클(Oracle) 기업의 '틱톡' 인수 예정\n",
        " 2. 트럼프 대통령의 미국 내 틱톡, 위챗 철수 명령 후, 유력 인수 후보였던 MS를 제치고 오라클이 채택됨\n",
        " 3. 오라클 창업자인 래리 엘리슨 오라클이 트럼프 행정부와 우호적인 점이 큰 역할을 한 것으로 예상. 추후 틱톡과 오라클이 어떤 시너지를 낼 지에 대해 관심 ↑"
      ]
    },
    {
      "cell_type": "markdown",
      "metadata": {
        "id": "3ATRLnOS3Wri",
        "colab_type": "text"
      },
      "source": [
        "## Day 9\n",
        "9/15 (화)\n",
        "\n",
        "* url\n",
        "\n",
        "  > https://www.boannews.com/media/view.asp?idx=91172&page=1&kind=3\n",
        "\n",
        "\n",
        "\n",
        "\n",
        "* 요약\n",
        "> 1. SK텔레콤, T맵 대중교통 앱을 통한 지하철 칸 별 혼잡도 예측 정보 국내 최초 제공\n",
        " 2. 4가지 색상을 통한 혼잡도 확인 기능, 같은 혼잡도 단계일 경우 여유 있는 칸을 추천해주는 기능 탑재\n",
        " 3. 코로나 시대에 예측 분석을 이용해 감염확산을 막을 수 있는 좋은 방안으로 향후 더욱 발전할 것이라 예상"
      ]
    },
    {
      "cell_type": "markdown",
      "metadata": {
        "id": "NILvbY03XIiT",
        "colab_type": "text"
      },
      "source": [
        "## Day 10\n",
        "9/16 (수)\n",
        "\n",
        "* url\n",
        "\n",
        "  > https://www.boannews.com/media/view.asp?idx=91225\n",
        "\n",
        "\n",
        "\n",
        "\n",
        "* 요약\n",
        "> 1. 유럽연합의 코로나 추적 효율을 위한 국경 초월 게이트웨이 개발 추진\n",
        " 2. 어플 하나로 유럽 연합국가 어디든 코로나 추적 현황 및 정보를 얻을 수 있음\n",
        " 3. 현재 6개 국가가 참여중이며, 시험기간은 10월까지."
      ]
    },
    {
      "cell_type": "markdown",
      "metadata": {
        "id": "dvZ_zR5gjXWW",
        "colab_type": "text"
      },
      "source": [
        "## Day 11\n",
        "9/17 (목)\n",
        "\n",
        "* url\n",
        "\n",
        "  > https://www.boannews.com/media/view.asp?idx=91109\n",
        "\n",
        "\n",
        "\n",
        "\n",
        "* 요약\n",
        "> 1. 네이버 고객센터를 사칭해 패스워드를 탈취하려는 피싱 공격 발견\n",
        " 2. MS에서 고소당한 '탈륨'해킹 조직이 연계도니 것으로 추정\n",
        " 3. '새로운 기기 로그인 알림 기능'이 해제되었다는 이메일 공지를 사칭해 비밀번호를 다시 입력하게 만드는 방식을 사용 중이니 각별한 주의 필요."
      ]
    },
    {
      "cell_type": "markdown",
      "metadata": {
        "id": "fORos_hS7Uch",
        "colab_type": "text"
      },
      "source": [
        "## Day 12\n",
        "9/18 (금)\n",
        "\n",
        "* url\n",
        "\n",
        "  > http://www.inews24.com/view/1299781\n",
        "\n",
        "\n",
        "\n",
        "* 요약\n",
        "> 1. 카카오의 업무용 메신저 플랫폼 '카카오워크'츨시\n",
        " 2. 장점 : 카카오톡 UI와 유사해서 카톡유저라면 쉽게 사용 가능.업무용 회의 시 유용한 추가 기능들의 탑재.\n",
        " 3. 온라인 커뮤니티에서의 반응이 '업무 관련 지나친 통제, 감시 예상' 혹은 '편리하고 새로운 업무 메신저 플랫폼의 등장'으로 갈리고 있으니 중간 밸런스를 잡는 것이 향후 쟁점으로 예상."
      ]
    },
    {
      "cell_type": "markdown",
      "metadata": {
        "id": "FQoO8Ky0FYDY",
        "colab_type": "text"
      },
      "source": [
        "## Day 13\n",
        "9/19 (토)\n",
        "\n",
        "* url\n",
        "\n",
        "  > http://www.inews24.com/view/1300635\n",
        "\n",
        "\n",
        "* 요약\n",
        "> 1. 해커들이 랜섬웨어 공격으로 확보한 데이터를 이용해 압박수위를 높이고 있음\n",
        " 2. 기존 수법은 데이터를 암호화 한 후, 이를 복호화 해주는 조건으로 비용을 청구하는 방식\n",
        " 3. 해킹한 데이터를 다크웹에 공개하겠다는 식으로 수법이 변형되어 더 큰 공격 주도권을 갖게 될 것으로 예상. 주요 기관들의 백업 시스템 개선이 필요."
      ]
    },
    {
      "cell_type": "markdown",
      "metadata": {
        "id": "rJhl34ttfDVg",
        "colab_type": "text"
      },
      "source": [
        "## Day 14\n",
        "9/20 (일)\n",
        "\n",
        "* url\n",
        "\n",
        "  > https://www.dailysecu.com/news/articleView.html?idxno=113825&page=2&total=90515\n",
        "\n",
        "\n",
        "* 요약\n",
        "> 1. MS SQL 서버를 공격한 시스템 해킹 및 가상화폐 채굴 악성코드'MrbMiner' 발견\n",
        " 2. 해킹 방법 : SQL 서버의 취약점인 비밀번호를 이용한 침입, MSSQL 서버공격을 위한 봇넷 이용, C#을 이용한 트로이목마 실행\n",
        " 3. MSSQL 서버 속 Default/@fg125kjnjn987 계정 유무 체크로 공격 캠페인을 식별 가능하여 확인 권고"
      ]
    },
    {
      "cell_type": "markdown",
      "metadata": {
        "id": "MSwX432kOu5Z",
        "colab_type": "text"
      },
      "source": [
        "## Day 15\n",
        "9/21 (월)\n",
        "\n",
        "* url\n",
        "\n",
        "  > https://www.dailysecu.com/news/articleView.html?idxno=113824&page=3&total=90535\n",
        "\n",
        "\n",
        "* 요약\n",
        "> 1.  스마트폰을 이용한 ‘위조지폐 감정시스템’의 확대 시행\n",
        " 2. 데이터 마이닝 기법을 이용하여 기존 시스템보다 정교하게 위안화, 달러화까지 원격 감정 가능\n",
        " 3. 9/18부터 시행될 예정이며, 추후 신분증 위변조 감정시스템까지 추가 적용될 것으로 예상"
      ]
    },
    {
      "cell_type": "markdown",
      "metadata": {
        "id": "nd7p3N2PO8cj",
        "colab_type": "text"
      },
      "source": [
        "## Day 16\n",
        "9/22 (화)\n",
        "\n",
        "* url\n",
        "\n",
        "  > https://n.news.naver.com/article/123/0002227508\n",
        "\n",
        "\n",
        "* 요약\n",
        "> 코로나로 인해 많은 산업이 하향되었으나, 게임산업만큼은 언택트 시대에 맞춰 사용량 대폭 증가."
      ]
    },
    {
      "cell_type": "markdown",
      "metadata": {
        "id": "YYb4FqgyK_sF",
        "colab_type": "text"
      },
      "source": [
        "## Day 17\n",
        "9/23 (수)\n",
        "\n",
        "* url\n",
        "\n",
        "  > https://www.boannews.com/media/view.asp?idx=91282\n",
        "\n",
        "\n",
        "* 요약\n",
        "> 1.  랜섬웨어를 이용한 독일 병원 시스템 해킹으로 시스템이 마비되어 긴급 환자 이송 중 사망. \n",
        " 2. 현재 범인을 추적 중이며, 병원 측에도 책임이 있는 지에 대한 궁금증 有"
      ]
    },
    {
      "cell_type": "markdown",
      "metadata": {
        "id": "TziAw2BaWK4D",
        "colab_type": "text"
      },
      "source": [
        "## Day 18\n",
        "9/24 (목)\n",
        "\n",
        "* url\n",
        "\n",
        "  > https://www.boannews.com/media/view.asp?idx=91376\n",
        "\n",
        "\n",
        "* 요약\n",
        "> 1.  구글 클라우드 버킷6%에서 설정 오류 발견\n",
        " 2. 단 2시간 30분 만에 2천 개의 버킷 써치 가능. 이는 곧 해커들 역시 손쉽게 구글 클라우드 도메인을 침입할 수 있음을 의미. 향후 클라우드 설정 강화가 필요함."
      ]
    }
  ]
}